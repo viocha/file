{
  "cells": [
    {
      "cell_type": "code",
      "execution_count": null,
      "metadata": {},
      "outputs": [],
      "source": [
        "def quick_sort(arr):\n",
        "    if len(arr) <= 1:\n",
        "        return arr\n",
        "    else:\n",
        "        pivot = arr[0]\n",
        "        less = [x for x in arr[1:] if x <= pivot]\n",
        "        greater = [x for x in arr[1:] if x > pivot]\n",
        "        return quick_sort(less) + [pivot] + quick_sort(greater)\n",
        "\n",
        "arr = [3, 6, 8, 10, 1, 2, 1]\n",
        "sorted_arr = quick_sort(arr)\n",
        "print(\"排序前：\", arr)\n",
        "print(\"排序后：\", sorted_arr)\n",
        "\n"
      ]
    }
  ],
  "metadata": {
    "kernelspec": {
      "display_name": "Python 3",
      "language": "python",
      "name": "python3"
    },
    "language_info": {
      "name": "python"
    }
  },
  "nbformat": 4,
  "nbformat_minor": 5
}