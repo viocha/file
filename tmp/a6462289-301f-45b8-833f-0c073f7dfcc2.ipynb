{
  "cells": [
    {
      "cell_type": "code",
      "execution_count": null,
      "metadata": {},
      "outputs": [],
      "source": [
        "import pkgutil\n",
        "\n",
        "# 遍历所有可导入的模块（包括标准库和第三方库）\n",
        "all_modules = [name for _, name, _ in pkgutil.iter_modules()]\n",
        "print(all_modules)\n"
      ]
    }
  ],
  "metadata": {
    "kernelspec": {
      "display_name": "Python 3",
      "language": "python",
      "name": "python3"
    },
    "language_info": {
      "name": "python"
    }
  },
  "nbformat": 4,
  "nbformat_minor": 5
}