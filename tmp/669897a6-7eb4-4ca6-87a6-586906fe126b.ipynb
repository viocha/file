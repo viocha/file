{
  "cells": [
    {
      "cell_type": "code",
      "execution_count": null,
      "metadata": {},
      "outputs": [],
      "source": [
        "def quick_sort(arr):\n",
        "    if len(arr) <= 1:\n",
        "        return arr\n",
        "    pivot = arr[0]\n",
        "    left = [x for x in arr[1:] if x < pivot]\n",
        "    right = [x for x in arr[1:] if x >= pivot]\n",
        "    return quick_sort(left) + [pivot] + quick_sort(right)\n",
        "\n",
        "# 主程序测试\n",
        "if __name__ == \"__main__\":\n",
        "    test_list = [29, 10, 14, 37, 13, 5, 88, 1]\n",
        "    print(\"原始列表:\", test_list)\n",
        "    sorted_list = quick_sort(test_list)\n",
        "    print(\"排序后列表:\", sorted_list)\n",
        "\n"
      ]
    }
  ],
  "metadata": {
    "kernelspec": {
      "display_name": "Python 3",
      "language": "python",
      "name": "python3"
    },
    "language_info": {
      "name": "python"
    }
  },
  "nbformat": 4,
  "nbformat_minor": 5
}