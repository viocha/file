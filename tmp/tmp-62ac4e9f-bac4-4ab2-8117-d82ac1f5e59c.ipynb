{
  "cells": [
    {
      "cell_type": "code",
      "execution_count": null,
      "metadata": {},
      "outputs": [],
      "source": [
        "def quick_sort(arr):\n",
        "    if len(arr) <= 1:\n",
        "        return arr\n",
        "    else:\n",
        "        pivot = arr[0]  # 选取第一个元素作为基准\n",
        "        less = [x for x in arr[1:] if x <= pivot]  # 小于等于基准的元素\n",
        "        greater = [x for x in arr[1:] if x > pivot]  # 大于基准的元素\n",
        "        return quick_sort(less) + [pivot] + quick_sort(greater)\n",
        "\n"
      ]
    }
  ],
  "metadata": {
    "kernelspec": {
      "display_name": "Python 3",
      "language": "python",
      "name": "python3"
    },
    "language_info": {
      "name": "python"
    }
  },
  "nbformat": 4,
  "nbformat_minor": 5
}