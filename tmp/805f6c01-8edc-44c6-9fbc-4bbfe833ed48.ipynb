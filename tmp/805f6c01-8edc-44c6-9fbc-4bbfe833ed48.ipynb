{
  "cells": [
    {
      "cell_type": "code",
      "execution_count": null,
      "metadata": {},
      "outputs": [],
      "source": [
        "# 安装 Flask 和 pyngrok\n",
        "!pip install flask pyngrok --quiet\n",
        "\n",
        "# 导入需要的库\n",
        "from flask import Flask\n",
        "from pyngrok import ngrok\n",
        "import threading\n",
        "\n",
        "# 创建 Flask 应用\n",
        "app = Flask(__name__)\n",
        "\n",
        "@app.route('/')\n",
        "def index():\n",
        "    return \"<h1>Hello from Flask on Colab!</h1>\"\n",
        "\n",
        "@app.route('/hello/<name>')\n",
        "def hello(name):\n",
        "    return f\"<h2>Hello, {name}!</h2>\"\n",
        "\n",
        "# 开启 Flask 应用的线程\n",
        "def run_flask():\n",
        "    app.run(port=5000)\n",
        "\n",
        "# 创建并启动 ngrok 隧道\n",
        "public_url = ngrok.connect(5000)\n",
        "print(f\"Public URL: {public_url}\")\n",
        "\n",
        "# 启动 Flask 应用（非阻塞）\n",
        "thread = threading.Thread(target=run_flask)\n",
        "thread.start()\n",
        "\n"
      ]
    }
  ],
  "metadata": {
    "kernelspec": {
      "display_name": "Python 3",
      "language": "python",
      "name": "python3"
    },
    "language_info": {
      "name": "python"
    }
  },
  "nbformat": 4,
  "nbformat_minor": 5
}