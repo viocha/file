{
  "cells": [
    {
      "cell_type": "code",
      "execution_count": null,
      "metadata": {},
      "outputs": [],
      "source": [
        "def quick_sort(arr):\n",
        "    if len(arr) <= 1:\n",
        "        return arr\n",
        "    pivot = arr[0]  # 选择第一个元素作为基准\n",
        "    left = [x for x in arr[1:] if x < pivot]  # 比基准小的放左边\n",
        "    right = [x for x in arr[1:] if x >= pivot]  # 比基准大的放右边\n",
        "    return quick_sort(left) + [pivot] + quick_sort(right)\n",
        "\n"
      ]
    }
  ],
  "metadata": {
    "kernelspec": {
      "display_name": "Python 3",
      "language": "python",
      "name": "python3"
    },
    "language_info": {
      "name": "python"
    }
  },
  "nbformat": 4,
  "nbformat_minor": 5
}