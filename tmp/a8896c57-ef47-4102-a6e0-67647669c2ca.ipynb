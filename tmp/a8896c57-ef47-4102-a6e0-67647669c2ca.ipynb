{
  "cells": [
    {
      "cell_type": "code",
      "execution_count": null,
      "metadata": {},
      "outputs": [],
      "source": [
        "!pip install flask"
      ]
    },
    {
      "cell_type": "code",
      "execution_count": null,
      "metadata": {},
      "outputs": [],
      "source": [
        "import os\n",
        "from flask import Flask, request, redirect, url_for, render_template_string\n",
        "\n",
        "app = Flask(__name__)\n",
        "UPLOAD_FOLDER = 'uploads'\n",
        "app.config['UPLOAD_FOLDER'] = UPLOAD_FOLDER\n",
        "\n",
        "# 确保上传目录存在\n",
        "os.makedirs(UPLOAD_FOLDER, exist_ok=True)\n",
        "\n",
        "# 首页 HTML 模板\n",
        "HTML_TEMPLATE = '''\n",
        "<!doctype html>\n",
        "<title>上传文件</title>\n",
        "<h1>上传文件</h1>\n",
        "<form method=post enctype=multipart/form-data action=\"/upload\">\n",
        "  <input type=file name=file>\n",
        "  <input type=submit value=上传>\n",
        "</form>\n",
        "'''\n",
        "\n",
        "@app.route('/')\n",
        "def index():\n",
        "    return render_template_string(HTML_TEMPLATE)\n",
        "\n",
        "@app.route('/upload', methods=['POST'])\n",
        "def upload_file():\n",
        "    if 'file' not in request.files:\n",
        "        return '没有文件部分'\n",
        "    file = request.files['file']\n",
        "    if file.filename == '':\n",
        "        return '没有选择文件'\n",
        "    if file:\n",
        "        filepath = os.path.join(app.config['UPLOAD_FOLDER'], file.filename)\n",
        "        file.save(filepath)\n",
        "        return f'文件 {file.filename} 上传成功！<br><a href=\"/\">返回</a>'\n",
        "\n",
        "if __name__ == '__main__':\n",
        "    app.run(debug=True)\n",
        "\n"
      ]
    }
  ],
  "metadata": {
    "kernelspec": {
      "display_name": "Python 3",
      "language": "python",
      "name": "python3"
    },
    "language_info": {
      "name": "python"
    }
  },
  "nbformat": 4,
  "nbformat_minor": 5
}