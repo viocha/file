{
  "cells": [
    {
      "cell_type": "code",
      "execution_count": null,
      "metadata": {},
      "outputs": [],
      "source": [
        "import sys\n",
        "\n",
        "# 返回标准库所有模块名的集合（Python 3.10+）\n",
        "if hasattr(sys, 'stdlib_module_names'):\n",
        "    print(sys.stdlib_module_names)\n",
        "else:\n",
        "    print(\"当前Python版本低于3.10，不支持此功能。\")\n"
      ]
    }
  ],
  "metadata": {
    "kernelspec": {
      "display_name": "Python 3",
      "language": "python",
      "name": "python3"
    },
    "language_info": {
      "name": "python"
    }
  },
  "nbformat": 4,
  "nbformat_minor": 5
}